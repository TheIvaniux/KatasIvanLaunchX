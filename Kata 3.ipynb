{
 "cells": [
  {
   "cell_type": "markdown",
   "metadata": {},
   "source": [
    "# Velocidad"
   ]
  },
  {
   "cell_type": "code",
   "execution_count": null,
   "metadata": {},
   "outputs": [],
   "source": [
    "velAsteroide = 70\n",
    "if velAsteroide > 25:\n",
    "    print('Corran ya viene el asteroideeeeeee!')\n",
    "else:\n",
    "    print('No estamos en peligro')"
   ]
  },
  {
   "cell_type": "markdown",
   "metadata": {},
   "source": [
    "# Estrella fugas"
   ]
  },
  {
   "cell_type": "code",
   "execution_count": null,
   "metadata": {},
   "outputs": [],
   "source": [
    "velAsteroide = 19\n",
    "if velAsteroide == 20:\n",
    "    print('Mira! Pide un deseo')\n",
    "elif velAsteroide > 20:\n",
    "    print('Mira! Pide un deseo')\n",
    "else:\n",
    "    print('Mira!    mi dedo')"
   ]
  },
  {
   "cell_type": "markdown",
   "metadata": {},
   "source": [
    "# Velocidad y tamaño"
   ]
  },
  {
   "cell_type": "code",
   "execution_count": null,
   "metadata": {},
   "outputs": [],
   "source": [
    "tamAsteroide = 55\n",
    "velAsteroide = 25\n",
    "if velAsteroide > 25 and tamAsteroide > 25:\n",
    "    print('Ve rezando al dios que quieras porque viene un asteriodeeee')\n",
    "elif velAsteroide >= 20:\n",
    "    print('Mira! Pide un deseo')\n",
    "elif tamAsteroide < 25:\n",
    "    print('Mira!    mi dedo')\n",
    "else:\n",
    "    print('Mira!    mi dedo')"
   ]
  }
 ],
 "metadata": {
  "interpreter": {
   "hash": "669f5abd92f1a410df15b0643b9f42360e277a412fc08ae8bc7d7911cf7e8f3d"
  },
  "kernelspec": {
   "display_name": "Python 3.10.2 64-bit",
   "language": "python",
   "name": "python3"
  },
  "language_info": {
   "codemirror_mode": {
    "name": "ipython",
    "version": 3
   },
   "file_extension": ".py",
   "mimetype": "text/x-python",
   "name": "python",
   "nbconvert_exporter": "python",
   "pygments_lexer": "ipython3",
   "version": "3.10.2"
  },
  "orig_nbformat": 4
 },
 "nbformat": 4,
 "nbformat_minor": 2
}
