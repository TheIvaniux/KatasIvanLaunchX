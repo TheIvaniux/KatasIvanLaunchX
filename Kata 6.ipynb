{
 "cells": [
  {
   "cell_type": "markdown",
   "metadata": {},
   "source": [
    "# Lista de planetas"
   ]
  },
  {
   "cell_type": "code",
   "execution_count": null,
   "metadata": {},
   "outputs": [],
   "source": [
    "listPlanetas = ['Mercurio', 'Venus', 'Tierra', 'Marte', 'Jupiter', 'Saturno', 'Urano', 'Neptuno']\n",
    "\n",
    "print('Hay', len(listPlanetas), 'planetas')\n",
    "\n",
    "listPlanetas.append('Pluton')\n",
    "\n",
    "print('Hay', len(listPlanetas), 'planetas')\n",
    "\n",
    "print(listPlanetas[-1], 'es el ultimo planeta')\n",
    "\n"
   ]
  },
  {
   "cell_type": "markdown",
   "metadata": {},
   "source": [
    "# Cercania de planetas al sol"
   ]
  },
  {
   "cell_type": "code",
   "execution_count": null,
   "metadata": {},
   "outputs": [],
   "source": [
    "listPlanetas = ['Mercurio', 'Venus', 'Tierra', 'Marte', 'Jupiter', 'Saturno', 'Urano', 'Neptuno']\n",
    "\n",
    "planetaDado = input('Introduce el nombre de un planeta con la primer letra en mayuscula y sin acentos')\n",
    "\n",
    "numPlanetasAntes = listPlanetas.index(planetaDado)\n",
    "\n",
    "print('Planetas mas cerca que',planetaDado,'al sol:')\n",
    "print(listPlanetas[0:numPlanetasAntes])\n",
    "\n",
    "print('Planetas mas lejos que',planetaDado,'al sol:')\n",
    "print(listPlanetas[numPlanetasAntes + 1:])"
   ]
  }
 ],
 "metadata": {
  "interpreter": {
   "hash": "669f5abd92f1a410df15b0643b9f42360e277a412fc08ae8bc7d7911cf7e8f3d"
  },
  "kernelspec": {
   "display_name": "Python 3.10.2 64-bit",
   "language": "python",
   "name": "python3"
  },
  "language_info": {
   "codemirror_mode": {
    "name": "ipython",
    "version": 3
   },
   "file_extension": ".py",
   "mimetype": "text/x-python",
   "name": "python",
   "nbconvert_exporter": "python",
   "pygments_lexer": "ipython3",
   "version": "3.10.2"
  },
  "orig_nbformat": 4
 },
 "nbformat": 4,
 "nbformat_minor": 2
}
