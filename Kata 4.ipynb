{
 "cells": [
  {
   "cell_type": "markdown",
   "metadata": {},
   "source": [
    "# Transformar cadenas"
   ]
  },
  {
   "cell_type": "code",
   "execution_count": 15,
   "metadata": {},
   "outputs": [
    {
     "name": "stdout",
     "output_type": "stream",
     "text": [
      "\n",
      "On average, the Moon moves 4cm away from the Earth every year The highest daylight temperature of the Moon is 127 C. \n",
      "\n",
      "On average, the Moon moves 4cm away from the Earth every year The highest daylight temperature of the Moon is 127 Celsius. \n"
     ]
    }
   ],
   "source": [
    "#Definimos el tecto\n",
    "text = \"\"\"Interesting facts about the Moon. The Moon is Earth's only satellite. There are several interesting facts about the Moon and how it affects life here on Earth. \n",
    "On average, the Moon moves 4cm away from the Earth every year. This yearly drift is not significant enough to cause immediate effects on Earth. The highest daylight temperature of the Moon is 127 C.\"\"\"\n",
    "\n",
    "#Lo dividimos en frases separadas por un punto y espacio\n",
    "textoDividido = text.split('. ')\n",
    "\n",
    "#Definimos las palabras clave que queremos\n",
    "palabrasClave = [\"average\", \"temperature\", \"distance\"]\n",
    "\n",
    "#Con un ciclo \"for\" probamos en cada frase si se encuentra alguna palabra clave\n",
    "textoFinal = \"\"\n",
    "for oracion in textoDividido:\n",
    "    for palabraClave in palabrasClave:\n",
    "        #De encontrar una palabra clave en la frase, imprimimos la frase\n",
    "        if palabraClave in oracion:\n",
    "            textoFinal = textoFinal + oracion + \" \"\n",
    "            break\n",
    "#Imprimimos el texto resumido\n",
    "print(textoFinal)\n",
    "#Reemplazamos \"C\" con \"Celsius\"\n",
    "print(textoFinal.replace(' C', ' Celsius'))"
   ]
  },
  {
   "cell_type": "markdown",
   "metadata": {},
   "source": [
    "# Formateando cadenas"
   ]
  }
 ],
 "metadata": {
  "interpreter": {
   "hash": "669f5abd92f1a410df15b0643b9f42360e277a412fc08ae8bc7d7911cf7e8f3d"
  },
  "kernelspec": {
   "display_name": "Python 3.10.2 64-bit",
   "language": "python",
   "name": "python3"
  },
  "language_info": {
   "codemirror_mode": {
    "name": "ipython",
    "version": 3
   },
   "file_extension": ".py",
   "mimetype": "text/x-python",
   "name": "python",
   "nbconvert_exporter": "python",
   "pygments_lexer": "ipython3",
   "version": "3.10.2"
  },
  "orig_nbformat": 4
 },
 "nbformat": 4,
 "nbformat_minor": 2
}
